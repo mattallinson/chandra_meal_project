{
 "cells": [
  {
   "cell_type": "markdown",
   "metadata": {},
   "source": [
    "## Import Modules"
   ]
  },
  {
   "cell_type": "code",
   "execution_count": 1,
   "metadata": {},
   "outputs": [],
   "source": [
    "import csv\n",
    "from random import randint"
   ]
  },
  {
   "cell_type": "markdown",
   "metadata": {},
   "source": [
    "We need CSV to read the menu file that we've made, and we need random to randomly assign meals to days of the week"
   ]
  },
  {
   "cell_type": "markdown",
   "metadata": {},
   "source": [
    "## Define Constants, Classes and Modules"
   ]
  },
  {
   "cell_type": "code",
   "execution_count": 2,
   "metadata": {},
   "outputs": [],
   "source": [
    "DAYS = ('Monday','Tuesday','Wednesday','Thursday','Friday','Saturday','Sunday')\n",
    "RECIPE_FILE = 'recipe.csv'"
   ]
  },
  {
   "cell_type": "markdown",
   "metadata": {},
   "source": [
    "Here are our initial constants that wont change throughout the program (standard Python practice is to have constants in all uppercase)"
   ]
  },
  {
   "cell_type": "code",
   "execution_count": 3,
   "metadata": {},
   "outputs": [],
   "source": [
    "class Day:\n",
    "    def __init__(self, name):\n",
    "        self.name = name\n",
    "        self.meal = None\n",
    "        self.diners = 0\n",
    "        \n",
    "    def add_meal(self, new_meal):\n",
    "        self.meal = new_meal\n",
    "        \n",
    "    def number_of_diners(self):\n",
    "        self.diners = int(input('How many People are eating on ' + self.name +'? (0,1 or 2)> '))\n",
    "        \n",
    "    def ingredients(self):\n",
    "        return self.meal.recipe"
   ]
  },
  {
   "cell_type": "markdown",
   "metadata": {},
   "source": [
    "Okay so now we're making \"Classes\", the first class we make is a Day class. Each Day has a name (hopefully self explanatory), a meal assigned to that day, and a number of people eating that day. We also make two (very simple) modules for the Day objects, one that assins the meal to the Day, and the other that asks the user how many people are eating on said day."
   ]
  },
  {
   "cell_type": "code",
   "execution_count": 4,
   "metadata": {},
   "outputs": [],
   "source": [
    "class Meal:\n",
    "    def __init__(self, name, recipe):\n",
    "        self.name = name\n",
    "        self.recipe = []\n",
    "        \n",
    "    def make_recipe(self, ingredient):\n",
    "        self.recipe.append(ingredient)\n",
    "    \n",
    "    '''def shopping_list(self):\n",
    "        print(self.name)\n",
    "        for r in self.recipe:\n",
    "            print('\\t',r.quantity, r.unit, r.name)'''\n",
    "\n",
    "class Ingredients: \n",
    "    def __init__(self, name, quantity, unit):\n",
    "        self.name = name.title() #make everything the same case to avoid duplicates from bad data entry\n",
    "        self.quantity = float(quantity) #make everything numbers\n",
    "        self.unit = unit.lower() #make everything the same case to avoid duplicates from bad data entry        "
   ]
  },
  {
   "cell_type": "markdown",
   "metadata": {},
   "source": [
    "Here is where the magic happens in terms of how the program will think about food. We have a class called \"Meal\" which consists of a name for the meal and a list for its ingredients. \n",
    "\n",
    "We have a second class called Ingredients which has three components, the name of the ingredient, the ammount needed for the recipe it's being used in, and the unit for said ammount (i.e. grams etc). In this program we build the ingredients by parsing a CSV file so the ```__init__``` for the class takes a list, and then populates it from that list.\n",
    "\n",
    "Meal has a couple of modules too, firstly ```make_recipe``` which is used to go through the .csv file to add the ingredients to the meal, and ```shopping_list``` which i've been using for debugging, i think i will need to come back to this later and actually move it to days"
   ]
  },
  {
   "cell_type": "code",
   "execution_count": 5,
   "metadata": {},
   "outputs": [],
   "source": [
    "class Shopping_List:\n",
    "    def __init__(self):\n",
    "        self.ingredients = []\n",
    "    \n",
    "    def add_ingredient(self,ingredient_to_add):\n",
    "        if ingredient_to_add.name not in [i.name for i in self.ingredients]:\n",
    "            self.ingredients.append(ingredient_to_add)\n",
    "        else:\n",
    "            ingredient_to_update = [i.name for i in self.ingredients].index(ingredient_to_add.name)\n",
    "            self.ingredients[ingredient_to_update].quantity += ingredient_to_add.quantity\n",
    "            \n",
    "    def print_shopping_list(self):\n",
    "        print('This week, you will need:')\n",
    "        for ingredient in self.ingredients:\n",
    "            print (\"\\t\",ingredient.quantity, ingredient.unit, \"of\", ingredient.name)\n",
    "    "
   ]
  },
  {
   "cell_type": "code",
   "execution_count": 6,
   "metadata": {},
   "outputs": [],
   "source": [
    "def make_cookbook(recipes): #goes through the CSV file and makes Meal classes for each meal in there\n",
    "    meals =[]    \n",
    "    for r in recipes:\n",
    "        if r[0] != '': #if the first column it not empty (i.e. contains a name)\n",
    "            meal = (Meal(r[0].title(),None)) # Make a new meal (with an empty ingredients list with the name that appears in the first column)\n",
    "            meals.append(meal) #adds it to our list\n",
    "                \n",
    "        else:        #steps down to the next row and starts turning everything into ingredients\n",
    "            ingredient_to_add = Ingredients(r[1],r[2],r[3]) #turn that row into an Ingredient object (starting in the 2nd col)\n",
    "            meal.make_recipe(ingredient_to_add) #add that ingredient to the list for the above meal\n",
    "                \n",
    "    return meals "
   ]
  },
  {
   "cell_type": "markdown",
   "metadata": {},
   "source": [
    "Okay this module is complicated so i've commented it really thoroughly, but basically we go through the CSV file which is laid out like \n",
    "```\n",
    "'meal1 name',       ''     ,      ''   ,   '', \n",
    "   ''     , 'ingredient1', 'quantity', 'unit',\n",
    "   ''     , 'ingredient2', 'quantity', 'unit',\n",
    "'meal2 name',       ''     ,      ''   ,   '', \n",
    "   ''     , 'ingredient1', 'quantity', 'unit',\n",
    "   ''     , 'ingredient2', 'quantity', 'unit', ```\n",
    "   \n",
    " etc etc and turns that into a python object with a name, and a list of ingredients which themselves are python objects with names, quantities and units."
   ]
  },
  {
   "cell_type": "markdown",
   "metadata": {},
   "source": [
    "## Start Running The Code"
   ]
  },
  {
   "cell_type": "code",
   "execution_count": 7,
   "metadata": {},
   "outputs": [],
   "source": [
    "with open(RECIPE_FILE) as recipe_file:\n",
    "    recipe_list = list(csv.reader(recipe_file)) #makes a list of all the meals called cookbook\n",
    "    \n",
    "cookbook = make_cookbook(recipe_list)"
   ]
  },
  {
   "cell_type": "markdown",
   "metadata": {},
   "source": [
    "This opens the .csv file which holds our recipe list and makes a list of all of them called ```cookbook```"
   ]
  },
  {
   "cell_type": "code",
   "execution_count": 8,
   "metadata": {},
   "outputs": [
    {
     "name": "stdout",
     "output_type": "stream",
     "text": [
      "How many People are eating on Monday? (0,1 or 2)> 2\n",
      "How many People are eating on Tuesday? (0,1 or 2)> 2\n",
      "How many People are eating on Wednesday? (0,1 or 2)> 1\n",
      "How many People are eating on Thursday? (0,1 or 2)> 0\n",
      "How many People are eating on Friday? (0,1 or 2)> 1\n",
      "How many People are eating on Saturday? (0,1 or 2)> 2\n",
      "How many People are eating on Sunday? (0,1 or 2)> 2\n"
     ]
    }
   ],
   "source": [
    "days = [Day(d) for d in DAYS]\n",
    "\n",
    "for day in days:\n",
    "    day.number_of_diners()# works out which days people are eating\n",
    "\n",
    "## Literally no idea why it needs this while loop to work, but this loop makes it work so 👍\n",
    "while 0 in [d.diners for d in days]:\n",
    "    for d in days:\n",
    "        if d.diners == 0:\n",
    "            days.remove(d)"
   ]
  },
  {
   "cell_type": "markdown",
   "metadata": {},
   "source": [
    "This makes a list of Days objects called ```days``` for each of the 7 days of the week. It then asks the user to say how many people are going to be eating on each day of the week. If then removes any days where no one will be eating. \n"
   ]
  },
  {
   "cell_type": "code",
   "execution_count": 9,
   "metadata": {
    "scrolled": true
   },
   "outputs": [
    {
     "name": "stdout",
     "output_type": "stream",
     "text": [
      "Your meal plan for this week is:\n",
      "\n",
      "\t Monday = Fish Finger Sandwiches\n",
      "\t Tuesday = Chicken And Mushroom Curry\n",
      "\t Wednesday = Roast Veg And Cous Cous\n",
      "\t Friday = Cheese On Toast\n",
      "\t Saturday = Risotto\n",
      "\t Sunday = Bangers & Mash\n"
     ]
    }
   ],
   "source": [
    "print(\"Your meal plan for this week is:\\n\")\n",
    "for day in days:\n",
    "    chosen_meal = cookbook[randint(0,len(cookbook)-1)]\n",
    "    day.add_meal(chosen_meal)\n",
    "    cookbook.remove(chosen_meal)\n",
    "    \n",
    "    print(\"\\t\",day.name, \"=\", day.meal.name)\n"
   ]
  },
  {
   "cell_type": "markdown",
   "metadata": {},
   "source": [
    "This goes through the days that people will be eating on and then assigns them a meal randomly from ```cookbook```. It then removes assigned meals from `cookbook` so they can't be assigned more than once a week. Finally it outputs the meal plan for the week."
   ]
  },
  {
   "cell_type": "code",
   "execution_count": 10,
   "metadata": {},
   "outputs": [],
   "source": [
    "for d in days:\n",
    "    for i in d.ingredients():\n",
    "        i.quantity = i.quantity * (d.diners/2)"
   ]
  },
  {
   "cell_type": "markdown",
   "metadata": {},
   "source": [
    "This code alters the quantity to match the number of diners (assuming the receipes are for 2 people)"
   ]
  },
  {
   "cell_type": "code",
   "execution_count": 11,
   "metadata": {},
   "outputs": [
    {
     "name": "stdout",
     "output_type": "stream",
     "text": [
      "This week, you will need:\n",
      "\t 1.0 pack of Fish Fingers\n",
      "\t 6.0 slices of Bread\n",
      "\t 200.0 grams of Chicken\n",
      "\t 1.0 jar of Curry Sauce\n",
      "\t 600.0 grams of Mushrooms\n",
      "\t 270.0 grams of Rice\n",
      "\t 100.0 grams of Courgettes\n",
      "\t 0.5 tin of Chickpeas\n",
      "\t 100.0 grams of Aubergine\n",
      "\t 50.0 grams of Cous Cous\n",
      "\t 200.0 grams of Cheese\n",
      "\t 1.0 pack of Stock Cubes\n",
      "\t 1.0 pack of Sausages\n",
      "\t 500.0 grams of Potatoes\n"
     ]
    }
   ],
   "source": [
    "shopping_list = Shopping_List()\n",
    "\n",
    "for d in days:\n",
    "    for i in d.ingredients():\n",
    "        shopping_list.add_ingredient(i)\n",
    "\n",
    "shopping_list.print_shopping_list()"
   ]
  },
  {
   "cell_type": "code",
   "execution_count": null,
   "metadata": {},
   "outputs": [],
   "source": []
  }
 ],
 "metadata": {
  "kernelspec": {
   "display_name": "Python 3",
   "language": "python",
   "name": "python3"
  },
  "language_info": {
   "codemirror_mode": {
    "name": "ipython",
    "version": 3
   },
   "file_extension": ".py",
   "mimetype": "text/x-python",
   "name": "python",
   "nbconvert_exporter": "python",
   "pygments_lexer": "ipython3",
   "version": "3.6.4"
  }
 },
 "nbformat": 4,
 "nbformat_minor": 2
}
